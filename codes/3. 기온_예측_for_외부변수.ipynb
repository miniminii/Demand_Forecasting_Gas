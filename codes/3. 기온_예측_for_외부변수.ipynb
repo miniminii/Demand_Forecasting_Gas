{
  "nbformat": 4,
  "nbformat_minor": 5,
  "metadata": {
    "kernelspec": {
      "display_name": "Python 3 (ipykernel)",
      "language": "python",
      "name": "python3"
    },
    "language_info": {
      "codemirror_mode": {
        "name": "ipython",
        "version": 3
      },
      "file_extension": ".py",
      "mimetype": "text/x-python",
      "name": "python",
      "nbconvert_exporter": "python",
      "pygments_lexer": "ipython3",
      "version": "3.8.11"
    },
    "colab": {
      "name": "기온 예측하기.ipynb",
      "provenance": [],
      "collapsed_sections": []
    }
  },
  "cells": [
    {
      "cell_type": "code",
      "metadata": {
        "colab": {
          "base_uri": "https://localhost:8080/"
        },
        "id": "B85bLirF4fID",
        "outputId": "0bd3b300-e7b3-472f-aa6c-36e679d485a5"
      },
      "source": [
        "from google.colab import drive\n",
        "drive.mount('/content/drive')"
      ],
      "id": "B85bLirF4fID",
      "execution_count": null,
      "outputs": [
        {
          "output_type": "stream",
          "name": "stdout",
          "text": [
            "Drive already mounted at /content/drive; to attempt to forcibly remount, call drive.mount(\"/content/drive\", force_remount=True).\n"
          ]
        }
      ]
    },
    {
      "cell_type": "code",
      "metadata": {
        "id": "fd3e858e"
      },
      "source": [
        "import matplotlib.pyplot as plt\n",
        "import pandas as pd\n",
        "import numpy as np\n",
        "import seaborn as sns"
      ],
      "id": "fd3e858e",
      "execution_count": null,
      "outputs": []
    },
    {
      "cell_type": "code",
      "metadata": {
        "id": "4c9f58d2"
      },
      "source": [
        "weather_2013 = pd.read_csv('/content/drive/MyDrive/가스공급량 수요예측/기상정보2013.csv', encoding='cp949')\n",
        "weather_2014 = pd.read_csv('/content/drive/MyDrive/가스공급량 수요예측/기상정보2014.csv', encoding='cp949')\n",
        "weather_2015 = pd.read_csv('/content/drive/MyDrive/가스공급량 수요예측/기상정보2015.csv', encoding='cp949')\n",
        "weather_2016 = pd.read_csv('/content/drive/MyDrive/가스공급량 수요예측/기상정보2016.csv', encoding='cp949')\n",
        "weather_2017 = pd.read_csv('/content/drive/MyDrive/가스공급량 수요예측/기상정보2017.csv', encoding='cp949')\n",
        "weather_2018 = pd.read_csv('/content/drive/MyDrive/가스공급량 수요예측/기상정보2018.csv', encoding='cp949')"
      ],
      "id": "4c9f58d2",
      "execution_count": null,
      "outputs": []
    },
    {
      "cell_type": "code",
      "metadata": {
        "colab": {
          "base_uri": "https://localhost:8080/",
          "height": 420
        },
        "id": "23ce3e57",
        "outputId": "7863fc49-0cf9-4f1e-f46b-8225fce0491d"
      },
      "source": [
        "weather_2013"
      ],
      "id": "23ce3e57",
      "execution_count": null,
      "outputs": [
        {
          "output_type": "execute_result",
          "data": {
            "text/html": [
              "<div>\n",
              "<style scoped>\n",
              "    .dataframe tbody tr th:only-of-type {\n",
              "        vertical-align: middle;\n",
              "    }\n",
              "\n",
              "    .dataframe tbody tr th {\n",
              "        vertical-align: top;\n",
              "    }\n",
              "\n",
              "    .dataframe thead th {\n",
              "        text-align: right;\n",
              "    }\n",
              "</style>\n",
              "<table border=\"1\" class=\"dataframe\">\n",
              "  <thead>\n",
              "    <tr style=\"text-align: right;\">\n",
              "      <th></th>\n",
              "      <th>지점</th>\n",
              "      <th>지점명</th>\n",
              "      <th>일시</th>\n",
              "      <th>기온(°C)</th>\n",
              "      <th>강수량(mm)</th>\n",
              "      <th>풍속(m/s)</th>\n",
              "      <th>습도(%)</th>\n",
              "      <th>일조(hr)</th>\n",
              "      <th>적설(cm)</th>\n",
              "      <th>전운량(10분위)</th>\n",
              "    </tr>\n",
              "  </thead>\n",
              "  <tbody>\n",
              "    <tr>\n",
              "      <th>0</th>\n",
              "      <td>108</td>\n",
              "      <td>서울</td>\n",
              "      <td>2013-01-01 00:00</td>\n",
              "      <td>-8.3</td>\n",
              "      <td>NaN</td>\n",
              "      <td>3.6</td>\n",
              "      <td>56.0</td>\n",
              "      <td>NaN</td>\n",
              "      <td>6.4</td>\n",
              "      <td>3.0</td>\n",
              "    </tr>\n",
              "    <tr>\n",
              "      <th>1</th>\n",
              "      <td>108</td>\n",
              "      <td>서울</td>\n",
              "      <td>2013-01-01 01:00</td>\n",
              "      <td>-8.5</td>\n",
              "      <td>NaN</td>\n",
              "      <td>4.0</td>\n",
              "      <td>57.0</td>\n",
              "      <td>NaN</td>\n",
              "      <td>6.4</td>\n",
              "      <td>NaN</td>\n",
              "    </tr>\n",
              "    <tr>\n",
              "      <th>2</th>\n",
              "      <td>108</td>\n",
              "      <td>서울</td>\n",
              "      <td>2013-01-01 02:00</td>\n",
              "      <td>-8.4</td>\n",
              "      <td>NaN</td>\n",
              "      <td>4.0</td>\n",
              "      <td>60.0</td>\n",
              "      <td>NaN</td>\n",
              "      <td>6.4</td>\n",
              "      <td>NaN</td>\n",
              "    </tr>\n",
              "    <tr>\n",
              "      <th>3</th>\n",
              "      <td>108</td>\n",
              "      <td>서울</td>\n",
              "      <td>2013-01-01 03:00</td>\n",
              "      <td>-8.1</td>\n",
              "      <td>NaN</td>\n",
              "      <td>3.4</td>\n",
              "      <td>58.0</td>\n",
              "      <td>NaN</td>\n",
              "      <td>6.4</td>\n",
              "      <td>6.0</td>\n",
              "    </tr>\n",
              "    <tr>\n",
              "      <th>4</th>\n",
              "      <td>108</td>\n",
              "      <td>서울</td>\n",
              "      <td>2013-01-01 04:00</td>\n",
              "      <td>-8.2</td>\n",
              "      <td>NaN</td>\n",
              "      <td>3.8</td>\n",
              "      <td>58.0</td>\n",
              "      <td>NaN</td>\n",
              "      <td>6.4</td>\n",
              "      <td>6.0</td>\n",
              "    </tr>\n",
              "    <tr>\n",
              "      <th>...</th>\n",
              "      <td>...</td>\n",
              "      <td>...</td>\n",
              "      <td>...</td>\n",
              "      <td>...</td>\n",
              "      <td>...</td>\n",
              "      <td>...</td>\n",
              "      <td>...</td>\n",
              "      <td>...</td>\n",
              "      <td>...</td>\n",
              "      <td>...</td>\n",
              "    </tr>\n",
              "    <tr>\n",
              "      <th>8755</th>\n",
              "      <td>108</td>\n",
              "      <td>서울</td>\n",
              "      <td>2013-12-31 19:00</td>\n",
              "      <td>5.5</td>\n",
              "      <td>NaN</td>\n",
              "      <td>3.6</td>\n",
              "      <td>62.0</td>\n",
              "      <td>NaN</td>\n",
              "      <td>NaN</td>\n",
              "      <td>NaN</td>\n",
              "    </tr>\n",
              "    <tr>\n",
              "      <th>8756</th>\n",
              "      <td>108</td>\n",
              "      <td>서울</td>\n",
              "      <td>2013-12-31 20:00</td>\n",
              "      <td>5.2</td>\n",
              "      <td>NaN</td>\n",
              "      <td>2.7</td>\n",
              "      <td>70.0</td>\n",
              "      <td>NaN</td>\n",
              "      <td>NaN</td>\n",
              "      <td>NaN</td>\n",
              "    </tr>\n",
              "    <tr>\n",
              "      <th>8757</th>\n",
              "      <td>108</td>\n",
              "      <td>서울</td>\n",
              "      <td>2013-12-31 21:00</td>\n",
              "      <td>4.9</td>\n",
              "      <td>NaN</td>\n",
              "      <td>3.9</td>\n",
              "      <td>64.0</td>\n",
              "      <td>NaN</td>\n",
              "      <td>NaN</td>\n",
              "      <td>6.0</td>\n",
              "    </tr>\n",
              "    <tr>\n",
              "      <th>8758</th>\n",
              "      <td>108</td>\n",
              "      <td>서울</td>\n",
              "      <td>2013-12-31 22:00</td>\n",
              "      <td>4.2</td>\n",
              "      <td>NaN</td>\n",
              "      <td>3.6</td>\n",
              "      <td>62.0</td>\n",
              "      <td>NaN</td>\n",
              "      <td>NaN</td>\n",
              "      <td>NaN</td>\n",
              "    </tr>\n",
              "    <tr>\n",
              "      <th>8759</th>\n",
              "      <td>108</td>\n",
              "      <td>서울</td>\n",
              "      <td>2013-12-31 23:00</td>\n",
              "      <td>3.7</td>\n",
              "      <td>NaN</td>\n",
              "      <td>3.2</td>\n",
              "      <td>61.0</td>\n",
              "      <td>NaN</td>\n",
              "      <td>NaN</td>\n",
              "      <td>NaN</td>\n",
              "    </tr>\n",
              "  </tbody>\n",
              "</table>\n",
              "<p>8760 rows × 10 columns</p>\n",
              "</div>"
            ],
            "text/plain": [
              "       지점 지점명                일시  기온(°C)  ...  습도(%)  일조(hr)  적설(cm)  전운량(10분위)\n",
              "0     108  서울  2013-01-01 00:00    -8.3  ...   56.0     NaN     6.4        3.0\n",
              "1     108  서울  2013-01-01 01:00    -8.5  ...   57.0     NaN     6.4        NaN\n",
              "2     108  서울  2013-01-01 02:00    -8.4  ...   60.0     NaN     6.4        NaN\n",
              "3     108  서울  2013-01-01 03:00    -8.1  ...   58.0     NaN     6.4        6.0\n",
              "4     108  서울  2013-01-01 04:00    -8.2  ...   58.0     NaN     6.4        6.0\n",
              "...   ...  ..               ...     ...  ...    ...     ...     ...        ...\n",
              "8755  108  서울  2013-12-31 19:00     5.5  ...   62.0     NaN     NaN        NaN\n",
              "8756  108  서울  2013-12-31 20:00     5.2  ...   70.0     NaN     NaN        NaN\n",
              "8757  108  서울  2013-12-31 21:00     4.9  ...   64.0     NaN     NaN        6.0\n",
              "8758  108  서울  2013-12-31 22:00     4.2  ...   62.0     NaN     NaN        NaN\n",
              "8759  108  서울  2013-12-31 23:00     3.7  ...   61.0     NaN     NaN        NaN\n",
              "\n",
              "[8760 rows x 10 columns]"
            ]
          },
          "metadata": {},
          "execution_count": 11
        }
      ]
    },
    {
      "cell_type": "code",
      "metadata": {
        "id": "9547508c"
      },
      "source": [
        "temp_2013 = weather_2013[['일시','기온(°C)']]\n",
        "temp_2014 = weather_2014[['일시','기온(°C)']]\n",
        "temp_2015 = weather_2015[['일시','기온(°C)']]\n",
        "temp_2016 = weather_2016[['일시','기온(°C)']]\n",
        "temp_2017 = weather_2017[['일시','기온(°C)']]\n",
        "temp_2018 = weather_2018[['일시','기온(°C)']]"
      ],
      "id": "9547508c",
      "execution_count": null,
      "outputs": []
    },
    {
      "cell_type": "code",
      "metadata": {
        "colab": {
          "base_uri": "https://localhost:8080/",
          "height": 420
        },
        "id": "b5ecabb7",
        "outputId": "81723a4a-3ede-4122-fc63-95345097af9c"
      },
      "source": [
        "temp_2013"
      ],
      "id": "b5ecabb7",
      "execution_count": null,
      "outputs": [
        {
          "output_type": "execute_result",
          "data": {
            "text/html": [
              "<div>\n",
              "<style scoped>\n",
              "    .dataframe tbody tr th:only-of-type {\n",
              "        vertical-align: middle;\n",
              "    }\n",
              "\n",
              "    .dataframe tbody tr th {\n",
              "        vertical-align: top;\n",
              "    }\n",
              "\n",
              "    .dataframe thead th {\n",
              "        text-align: right;\n",
              "    }\n",
              "</style>\n",
              "<table border=\"1\" class=\"dataframe\">\n",
              "  <thead>\n",
              "    <tr style=\"text-align: right;\">\n",
              "      <th></th>\n",
              "      <th>일시</th>\n",
              "      <th>기온(°C)</th>\n",
              "    </tr>\n",
              "  </thead>\n",
              "  <tbody>\n",
              "    <tr>\n",
              "      <th>0</th>\n",
              "      <td>2013-01-01 00:00</td>\n",
              "      <td>-8.3</td>\n",
              "    </tr>\n",
              "    <tr>\n",
              "      <th>1</th>\n",
              "      <td>2013-01-01 01:00</td>\n",
              "      <td>-8.5</td>\n",
              "    </tr>\n",
              "    <tr>\n",
              "      <th>2</th>\n",
              "      <td>2013-01-01 02:00</td>\n",
              "      <td>-8.4</td>\n",
              "    </tr>\n",
              "    <tr>\n",
              "      <th>3</th>\n",
              "      <td>2013-01-01 03:00</td>\n",
              "      <td>-8.1</td>\n",
              "    </tr>\n",
              "    <tr>\n",
              "      <th>4</th>\n",
              "      <td>2013-01-01 04:00</td>\n",
              "      <td>-8.2</td>\n",
              "    </tr>\n",
              "    <tr>\n",
              "      <th>...</th>\n",
              "      <td>...</td>\n",
              "      <td>...</td>\n",
              "    </tr>\n",
              "    <tr>\n",
              "      <th>8755</th>\n",
              "      <td>2013-12-31 19:00</td>\n",
              "      <td>5.5</td>\n",
              "    </tr>\n",
              "    <tr>\n",
              "      <th>8756</th>\n",
              "      <td>2013-12-31 20:00</td>\n",
              "      <td>5.2</td>\n",
              "    </tr>\n",
              "    <tr>\n",
              "      <th>8757</th>\n",
              "      <td>2013-12-31 21:00</td>\n",
              "      <td>4.9</td>\n",
              "    </tr>\n",
              "    <tr>\n",
              "      <th>8758</th>\n",
              "      <td>2013-12-31 22:00</td>\n",
              "      <td>4.2</td>\n",
              "    </tr>\n",
              "    <tr>\n",
              "      <th>8759</th>\n",
              "      <td>2013-12-31 23:00</td>\n",
              "      <td>3.7</td>\n",
              "    </tr>\n",
              "  </tbody>\n",
              "</table>\n",
              "<p>8760 rows × 2 columns</p>\n",
              "</div>"
            ],
            "text/plain": [
              "                    일시  기온(°C)\n",
              "0     2013-01-01 00:00    -8.3\n",
              "1     2013-01-01 01:00    -8.5\n",
              "2     2013-01-01 02:00    -8.4\n",
              "3     2013-01-01 03:00    -8.1\n",
              "4     2013-01-01 04:00    -8.2\n",
              "...                ...     ...\n",
              "8755  2013-12-31 19:00     5.5\n",
              "8756  2013-12-31 20:00     5.2\n",
              "8757  2013-12-31 21:00     4.9\n",
              "8758  2013-12-31 22:00     4.2\n",
              "8759  2013-12-31 23:00     3.7\n",
              "\n",
              "[8760 rows x 2 columns]"
            ]
          },
          "metadata": {},
          "execution_count": 13
        }
      ]
    },
    {
      "cell_type": "code",
      "metadata": {
        "colab": {
          "base_uri": "https://localhost:8080/",
          "height": 420
        },
        "id": "f258f946",
        "outputId": "8841f960-1998-4d2e-e7ea-6974bf105c45"
      },
      "source": [
        "temp = temp_2013.append([temp_2014,temp_2015,temp_2016,temp_2017,temp_2018],ignore_index=True)\n",
        "temp"
      ],
      "id": "f258f946",
      "execution_count": null,
      "outputs": [
        {
          "output_type": "execute_result",
          "data": {
            "text/html": [
              "<div>\n",
              "<style scoped>\n",
              "    .dataframe tbody tr th:only-of-type {\n",
              "        vertical-align: middle;\n",
              "    }\n",
              "\n",
              "    .dataframe tbody tr th {\n",
              "        vertical-align: top;\n",
              "    }\n",
              "\n",
              "    .dataframe thead th {\n",
              "        text-align: right;\n",
              "    }\n",
              "</style>\n",
              "<table border=\"1\" class=\"dataframe\">\n",
              "  <thead>\n",
              "    <tr style=\"text-align: right;\">\n",
              "      <th></th>\n",
              "      <th>일시</th>\n",
              "      <th>기온(°C)</th>\n",
              "    </tr>\n",
              "  </thead>\n",
              "  <tbody>\n",
              "    <tr>\n",
              "      <th>0</th>\n",
              "      <td>2013-01-01 00:00</td>\n",
              "      <td>-8.3</td>\n",
              "    </tr>\n",
              "    <tr>\n",
              "      <th>1</th>\n",
              "      <td>2013-01-01 01:00</td>\n",
              "      <td>-8.5</td>\n",
              "    </tr>\n",
              "    <tr>\n",
              "      <th>2</th>\n",
              "      <td>2013-01-01 02:00</td>\n",
              "      <td>-8.4</td>\n",
              "    </tr>\n",
              "    <tr>\n",
              "      <th>3</th>\n",
              "      <td>2013-01-01 03:00</td>\n",
              "      <td>-8.1</td>\n",
              "    </tr>\n",
              "    <tr>\n",
              "      <th>4</th>\n",
              "      <td>2013-01-01 04:00</td>\n",
              "      <td>-8.2</td>\n",
              "    </tr>\n",
              "    <tr>\n",
              "      <th>...</th>\n",
              "      <td>...</td>\n",
              "      <td>...</td>\n",
              "    </tr>\n",
              "    <tr>\n",
              "      <th>52579</th>\n",
              "      <td>2018-12-31 19:00</td>\n",
              "      <td>-3.1</td>\n",
              "    </tr>\n",
              "    <tr>\n",
              "      <th>52580</th>\n",
              "      <td>2018-12-31 20:00</td>\n",
              "      <td>-3.7</td>\n",
              "    </tr>\n",
              "    <tr>\n",
              "      <th>52581</th>\n",
              "      <td>2018-12-31 21:00</td>\n",
              "      <td>-4.6</td>\n",
              "    </tr>\n",
              "    <tr>\n",
              "      <th>52582</th>\n",
              "      <td>2018-12-31 22:00</td>\n",
              "      <td>-5.4</td>\n",
              "    </tr>\n",
              "    <tr>\n",
              "      <th>52583</th>\n",
              "      <td>2018-12-31 23:00</td>\n",
              "      <td>-5.2</td>\n",
              "    </tr>\n",
              "  </tbody>\n",
              "</table>\n",
              "<p>52584 rows × 2 columns</p>\n",
              "</div>"
            ],
            "text/plain": [
              "                     일시  기온(°C)\n",
              "0      2013-01-01 00:00    -8.3\n",
              "1      2013-01-01 01:00    -8.5\n",
              "2      2013-01-01 02:00    -8.4\n",
              "3      2013-01-01 03:00    -8.1\n",
              "4      2013-01-01 04:00    -8.2\n",
              "...                 ...     ...\n",
              "52579  2018-12-31 19:00    -3.1\n",
              "52580  2018-12-31 20:00    -3.7\n",
              "52581  2018-12-31 21:00    -4.6\n",
              "52582  2018-12-31 22:00    -5.4\n",
              "52583  2018-12-31 23:00    -5.2\n",
              "\n",
              "[52584 rows x 2 columns]"
            ]
          },
          "metadata": {},
          "execution_count": 18
        }
      ]
    },
    {
      "cell_type": "code",
      "metadata": {
        "id": "nVnsku8_VEA9"
      },
      "source": [
        "temp['일시'] = pd.to_datetime(temp['일시'])\n",
        "temp['year'] = temp['일시'].dt.year\n",
        "temp['month'] = temp['일시'].dt.month\n",
        "temp['day'] = temp['일시'].dt.day\n",
        "temp['hour'] = temp['일시'].dt.hour\n",
        "temp['weekday'] = temp['일시'].dt.weekday"
      ],
      "id": "nVnsku8_VEA9",
      "execution_count": null,
      "outputs": []
    },
    {
      "cell_type": "code",
      "metadata": {
        "id": "XLXL3athV0Zw"
      },
      "source": [
        "temp = temp.rename(columns = {'기온(°C)':'temper'})"
      ],
      "id": "XLXL3athV0Zw",
      "execution_count": null,
      "outputs": []
    },
    {
      "cell_type": "code",
      "metadata": {
        "colab": {
          "base_uri": "https://localhost:8080/",
          "height": 420
        },
        "id": "DuLeiXaYVlQW",
        "outputId": "e404fec1-1fe2-4ae8-908a-ed804915426a"
      },
      "source": [
        "temp"
      ],
      "id": "DuLeiXaYVlQW",
      "execution_count": null,
      "outputs": [
        {
          "output_type": "execute_result",
          "data": {
            "text/html": [
              "<div>\n",
              "<style scoped>\n",
              "    .dataframe tbody tr th:only-of-type {\n",
              "        vertical-align: middle;\n",
              "    }\n",
              "\n",
              "    .dataframe tbody tr th {\n",
              "        vertical-align: top;\n",
              "    }\n",
              "\n",
              "    .dataframe thead th {\n",
              "        text-align: right;\n",
              "    }\n",
              "</style>\n",
              "<table border=\"1\" class=\"dataframe\">\n",
              "  <thead>\n",
              "    <tr style=\"text-align: right;\">\n",
              "      <th></th>\n",
              "      <th>일시</th>\n",
              "      <th>temper</th>\n",
              "      <th>year</th>\n",
              "      <th>month</th>\n",
              "      <th>day</th>\n",
              "      <th>hour</th>\n",
              "      <th>weekday</th>\n",
              "    </tr>\n",
              "  </thead>\n",
              "  <tbody>\n",
              "    <tr>\n",
              "      <th>0</th>\n",
              "      <td>2013-01-01 00:00:00</td>\n",
              "      <td>-8.3</td>\n",
              "      <td>2013</td>\n",
              "      <td>1</td>\n",
              "      <td>1</td>\n",
              "      <td>0</td>\n",
              "      <td>1</td>\n",
              "    </tr>\n",
              "    <tr>\n",
              "      <th>1</th>\n",
              "      <td>2013-01-01 01:00:00</td>\n",
              "      <td>-8.5</td>\n",
              "      <td>2013</td>\n",
              "      <td>1</td>\n",
              "      <td>1</td>\n",
              "      <td>1</td>\n",
              "      <td>1</td>\n",
              "    </tr>\n",
              "    <tr>\n",
              "      <th>2</th>\n",
              "      <td>2013-01-01 02:00:00</td>\n",
              "      <td>-8.4</td>\n",
              "      <td>2013</td>\n",
              "      <td>1</td>\n",
              "      <td>1</td>\n",
              "      <td>2</td>\n",
              "      <td>1</td>\n",
              "    </tr>\n",
              "    <tr>\n",
              "      <th>3</th>\n",
              "      <td>2013-01-01 03:00:00</td>\n",
              "      <td>-8.1</td>\n",
              "      <td>2013</td>\n",
              "      <td>1</td>\n",
              "      <td>1</td>\n",
              "      <td>3</td>\n",
              "      <td>1</td>\n",
              "    </tr>\n",
              "    <tr>\n",
              "      <th>4</th>\n",
              "      <td>2013-01-01 04:00:00</td>\n",
              "      <td>-8.2</td>\n",
              "      <td>2013</td>\n",
              "      <td>1</td>\n",
              "      <td>1</td>\n",
              "      <td>4</td>\n",
              "      <td>1</td>\n",
              "    </tr>\n",
              "    <tr>\n",
              "      <th>...</th>\n",
              "      <td>...</td>\n",
              "      <td>...</td>\n",
              "      <td>...</td>\n",
              "      <td>...</td>\n",
              "      <td>...</td>\n",
              "      <td>...</td>\n",
              "      <td>...</td>\n",
              "    </tr>\n",
              "    <tr>\n",
              "      <th>52579</th>\n",
              "      <td>2018-12-31 19:00:00</td>\n",
              "      <td>-3.1</td>\n",
              "      <td>2018</td>\n",
              "      <td>12</td>\n",
              "      <td>31</td>\n",
              "      <td>19</td>\n",
              "      <td>0</td>\n",
              "    </tr>\n",
              "    <tr>\n",
              "      <th>52580</th>\n",
              "      <td>2018-12-31 20:00:00</td>\n",
              "      <td>-3.7</td>\n",
              "      <td>2018</td>\n",
              "      <td>12</td>\n",
              "      <td>31</td>\n",
              "      <td>20</td>\n",
              "      <td>0</td>\n",
              "    </tr>\n",
              "    <tr>\n",
              "      <th>52581</th>\n",
              "      <td>2018-12-31 21:00:00</td>\n",
              "      <td>-4.6</td>\n",
              "      <td>2018</td>\n",
              "      <td>12</td>\n",
              "      <td>31</td>\n",
              "      <td>21</td>\n",
              "      <td>0</td>\n",
              "    </tr>\n",
              "    <tr>\n",
              "      <th>52582</th>\n",
              "      <td>2018-12-31 22:00:00</td>\n",
              "      <td>-5.4</td>\n",
              "      <td>2018</td>\n",
              "      <td>12</td>\n",
              "      <td>31</td>\n",
              "      <td>22</td>\n",
              "      <td>0</td>\n",
              "    </tr>\n",
              "    <tr>\n",
              "      <th>52583</th>\n",
              "      <td>2018-12-31 23:00:00</td>\n",
              "      <td>-5.2</td>\n",
              "      <td>2018</td>\n",
              "      <td>12</td>\n",
              "      <td>31</td>\n",
              "      <td>23</td>\n",
              "      <td>0</td>\n",
              "    </tr>\n",
              "  </tbody>\n",
              "</table>\n",
              "<p>52584 rows × 7 columns</p>\n",
              "</div>"
            ],
            "text/plain": [
              "                       일시  temper  year  month  day  hour  weekday\n",
              "0     2013-01-01 00:00:00    -8.3  2013      1    1     0        1\n",
              "1     2013-01-01 01:00:00    -8.5  2013      1    1     1        1\n",
              "2     2013-01-01 02:00:00    -8.4  2013      1    1     2        1\n",
              "3     2013-01-01 03:00:00    -8.1  2013      1    1     3        1\n",
              "4     2013-01-01 04:00:00    -8.2  2013      1    1     4        1\n",
              "...                   ...     ...   ...    ...  ...   ...      ...\n",
              "52579 2018-12-31 19:00:00    -3.1  2018     12   31    19        0\n",
              "52580 2018-12-31 20:00:00    -3.7  2018     12   31    20        0\n",
              "52581 2018-12-31 21:00:00    -4.6  2018     12   31    21        0\n",
              "52582 2018-12-31 22:00:00    -5.4  2018     12   31    22        0\n",
              "52583 2018-12-31 23:00:00    -5.2  2018     12   31    23        0\n",
              "\n",
              "[52584 rows x 7 columns]"
            ]
          },
          "metadata": {},
          "execution_count": 34
        }
      ]
    },
    {
      "cell_type": "code",
      "metadata": {
        "id": "BBkINevB-suj"
      },
      "source": [
        "date_2019 = pd.date_range(\"2019-1-1\", \"2019-4-1\",freq=\"H\")\n",
        "temp_2019 = pd.DataFrame(date_2019)\n",
        "temp_2019.columns = [\"일시\"]"
      ],
      "id": "BBkINevB-suj",
      "execution_count": null,
      "outputs": []
    },
    {
      "cell_type": "code",
      "metadata": {
        "id": "qxebHyLRWUq6"
      },
      "source": [
        "temp_2019['일시'] = pd.to_datetime(temp_2019['일시'])\n",
        "temp_2019['year'] = temp_2019['일시'].dt.year\n",
        "temp_2019['month'] = temp_2019['일시'].dt.month\n",
        "temp_2019['day'] = temp_2019['일시'].dt.day\n",
        "temp_2019['hour'] = temp_2019['일시'].dt.hour\n",
        "temp_2019['weekday'] = temp_2019['일시'].dt.weekday"
      ],
      "id": "qxebHyLRWUq6",
      "execution_count": null,
      "outputs": []
    },
    {
      "cell_type": "code",
      "metadata": {
        "id": "wEc974UJ-zNM",
        "colab": {
          "base_uri": "https://localhost:8080/",
          "height": 420
        },
        "outputId": "28a68fae-5224-4ad2-aae5-c294406512fa"
      },
      "source": [
        "temp_2019 = temp_2019.iloc[:-1]\n",
        "temp_2019"
      ],
      "id": "wEc974UJ-zNM",
      "execution_count": null,
      "outputs": [
        {
          "output_type": "execute_result",
          "data": {
            "text/html": [
              "<div>\n",
              "<style scoped>\n",
              "    .dataframe tbody tr th:only-of-type {\n",
              "        vertical-align: middle;\n",
              "    }\n",
              "\n",
              "    .dataframe tbody tr th {\n",
              "        vertical-align: top;\n",
              "    }\n",
              "\n",
              "    .dataframe thead th {\n",
              "        text-align: right;\n",
              "    }\n",
              "</style>\n",
              "<table border=\"1\" class=\"dataframe\">\n",
              "  <thead>\n",
              "    <tr style=\"text-align: right;\">\n",
              "      <th></th>\n",
              "      <th>일시</th>\n",
              "      <th>year</th>\n",
              "      <th>month</th>\n",
              "      <th>day</th>\n",
              "      <th>hour</th>\n",
              "      <th>weekday</th>\n",
              "    </tr>\n",
              "  </thead>\n",
              "  <tbody>\n",
              "    <tr>\n",
              "      <th>0</th>\n",
              "      <td>2019-01-01 00:00:00</td>\n",
              "      <td>2019</td>\n",
              "      <td>1</td>\n",
              "      <td>1</td>\n",
              "      <td>0</td>\n",
              "      <td>1</td>\n",
              "    </tr>\n",
              "    <tr>\n",
              "      <th>1</th>\n",
              "      <td>2019-01-01 01:00:00</td>\n",
              "      <td>2019</td>\n",
              "      <td>1</td>\n",
              "      <td>1</td>\n",
              "      <td>1</td>\n",
              "      <td>1</td>\n",
              "    </tr>\n",
              "    <tr>\n",
              "      <th>2</th>\n",
              "      <td>2019-01-01 02:00:00</td>\n",
              "      <td>2019</td>\n",
              "      <td>1</td>\n",
              "      <td>1</td>\n",
              "      <td>2</td>\n",
              "      <td>1</td>\n",
              "    </tr>\n",
              "    <tr>\n",
              "      <th>3</th>\n",
              "      <td>2019-01-01 03:00:00</td>\n",
              "      <td>2019</td>\n",
              "      <td>1</td>\n",
              "      <td>1</td>\n",
              "      <td>3</td>\n",
              "      <td>1</td>\n",
              "    </tr>\n",
              "    <tr>\n",
              "      <th>4</th>\n",
              "      <td>2019-01-01 04:00:00</td>\n",
              "      <td>2019</td>\n",
              "      <td>1</td>\n",
              "      <td>1</td>\n",
              "      <td>4</td>\n",
              "      <td>1</td>\n",
              "    </tr>\n",
              "    <tr>\n",
              "      <th>...</th>\n",
              "      <td>...</td>\n",
              "      <td>...</td>\n",
              "      <td>...</td>\n",
              "      <td>...</td>\n",
              "      <td>...</td>\n",
              "      <td>...</td>\n",
              "    </tr>\n",
              "    <tr>\n",
              "      <th>2155</th>\n",
              "      <td>2019-03-31 19:00:00</td>\n",
              "      <td>2019</td>\n",
              "      <td>3</td>\n",
              "      <td>31</td>\n",
              "      <td>19</td>\n",
              "      <td>6</td>\n",
              "    </tr>\n",
              "    <tr>\n",
              "      <th>2156</th>\n",
              "      <td>2019-03-31 20:00:00</td>\n",
              "      <td>2019</td>\n",
              "      <td>3</td>\n",
              "      <td>31</td>\n",
              "      <td>20</td>\n",
              "      <td>6</td>\n",
              "    </tr>\n",
              "    <tr>\n",
              "      <th>2157</th>\n",
              "      <td>2019-03-31 21:00:00</td>\n",
              "      <td>2019</td>\n",
              "      <td>3</td>\n",
              "      <td>31</td>\n",
              "      <td>21</td>\n",
              "      <td>6</td>\n",
              "    </tr>\n",
              "    <tr>\n",
              "      <th>2158</th>\n",
              "      <td>2019-03-31 22:00:00</td>\n",
              "      <td>2019</td>\n",
              "      <td>3</td>\n",
              "      <td>31</td>\n",
              "      <td>22</td>\n",
              "      <td>6</td>\n",
              "    </tr>\n",
              "    <tr>\n",
              "      <th>2159</th>\n",
              "      <td>2019-03-31 23:00:00</td>\n",
              "      <td>2019</td>\n",
              "      <td>3</td>\n",
              "      <td>31</td>\n",
              "      <td>23</td>\n",
              "      <td>6</td>\n",
              "    </tr>\n",
              "  </tbody>\n",
              "</table>\n",
              "<p>2160 rows × 6 columns</p>\n",
              "</div>"
            ],
            "text/plain": [
              "                      일시  year  month  day  hour  weekday\n",
              "0    2019-01-01 00:00:00  2019      1    1     0        1\n",
              "1    2019-01-01 01:00:00  2019      1    1     1        1\n",
              "2    2019-01-01 02:00:00  2019      1    1     2        1\n",
              "3    2019-01-01 03:00:00  2019      1    1     3        1\n",
              "4    2019-01-01 04:00:00  2019      1    1     4        1\n",
              "...                  ...   ...    ...  ...   ...      ...\n",
              "2155 2019-03-31 19:00:00  2019      3   31    19        6\n",
              "2156 2019-03-31 20:00:00  2019      3   31    20        6\n",
              "2157 2019-03-31 21:00:00  2019      3   31    21        6\n",
              "2158 2019-03-31 22:00:00  2019      3   31    22        6\n",
              "2159 2019-03-31 23:00:00  2019      3   31    23        6\n",
              "\n",
              "[2160 rows x 6 columns]"
            ]
          },
          "metadata": {},
          "execution_count": 29
        }
      ]
    },
    {
      "cell_type": "code",
      "metadata": {
        "colab": {
          "base_uri": "https://localhost:8080/"
        },
        "id": "15f53f34",
        "outputId": "1953f395-c7b5-4c3f-de03-08cb2883440a"
      },
      "source": [
        "temp.isna().sum()"
      ],
      "id": "15f53f34",
      "execution_count": null,
      "outputs": [
        {
          "output_type": "execute_result",
          "data": {
            "text/plain": [
              "일시         0\n",
              "temper     6\n",
              "year       0\n",
              "month      0\n",
              "day        0\n",
              "hour       0\n",
              "weekday    0\n",
              "dtype: int64"
            ]
          },
          "metadata": {},
          "execution_count": 35
        }
      ]
    },
    {
      "cell_type": "code",
      "metadata": {
        "id": "40a11cbb"
      },
      "source": [
        "temp.fillna(temp['temper'].mean(),inplace = True)"
      ],
      "id": "40a11cbb",
      "execution_count": null,
      "outputs": []
    },
    {
      "cell_type": "code",
      "metadata": {
        "colab": {
          "base_uri": "https://localhost:8080/"
        },
        "id": "fd9a6d6d",
        "outputId": "84142523-0267-4d1d-874c-aaad75c08343"
      },
      "source": [
        "temp.temper.isna().sum()"
      ],
      "id": "fd9a6d6d",
      "execution_count": null,
      "outputs": [
        {
          "output_type": "execute_result",
          "data": {
            "text/plain": [
              "0"
            ]
          },
          "metadata": {},
          "execution_count": 37
        }
      ]
    },
    {
      "cell_type": "code",
      "metadata": {
        "colab": {
          "base_uri": "https://localhost:8080/"
        },
        "id": "2643e61f",
        "outputId": "6a3decd1-9ced-4698-bb2e-9247283de985"
      },
      "source": [
        "temp.shape"
      ],
      "id": "2643e61f",
      "execution_count": null,
      "outputs": [
        {
          "output_type": "execute_result",
          "data": {
            "text/plain": [
              "(52584, 7)"
            ]
          },
          "metadata": {},
          "execution_count": 38
        }
      ]
    },
    {
      "cell_type": "code",
      "metadata": {
        "id": "QMQ2o_w7YXKV"
      },
      "source": [
        "import lightgbm as lgb\n",
        "model = lgb.LGBMRegressor(random_state=777, n_estimators=1000)"
      ],
      "id": "QMQ2o_w7YXKV",
      "execution_count": null,
      "outputs": []
    },
    {
      "cell_type": "code",
      "metadata": {
        "id": "FLdmRnVqYbnw"
      },
      "source": [
        "features = ['year','month','day','hour','weekday']\n",
        "target = ['temper']"
      ],
      "id": "FLdmRnVqYbnw",
      "execution_count": null,
      "outputs": []
    },
    {
      "cell_type": "code",
      "metadata": {
        "id": "VztHc3nvYbqu"
      },
      "source": [
        "X_train, X_test, y_train = temp[features], temp_2019[features], temp[target]"
      ],
      "id": "VztHc3nvYbqu",
      "execution_count": null,
      "outputs": []
    },
    {
      "cell_type": "code",
      "metadata": {
        "colab": {
          "base_uri": "https://localhost:8080/"
        },
        "id": "MVGHPvXWYbtL",
        "outputId": "626dcfb6-d85d-4a10-a588-1095820cd93e"
      },
      "source": [
        "model.fit(X_train,y_train)"
      ],
      "id": "MVGHPvXWYbtL",
      "execution_count": null,
      "outputs": [
        {
          "output_type": "execute_result",
          "data": {
            "text/plain": [
              "LGBMRegressor(boosting_type='gbdt', class_weight=None, colsample_bytree=1.0,\n",
              "              importance_type='split', learning_rate=0.1, max_depth=-1,\n",
              "              min_child_samples=20, min_child_weight=0.001, min_split_gain=0.0,\n",
              "              n_estimators=1000, n_jobs=-1, num_leaves=31, objective=None,\n",
              "              random_state=777, reg_alpha=0.0, reg_lambda=0.0, silent=True,\n",
              "              subsample=1.0, subsample_for_bin=200000, subsample_freq=0)"
            ]
          },
          "metadata": {},
          "execution_count": 43
        }
      ]
    },
    {
      "cell_type": "code",
      "metadata": {
        "id": "C7v8gax9Ybv3"
      },
      "source": [
        "date_2019 = pd.date_range(\"2019-1-1\", \"2019-4-1\",freq=\"H\")\n",
        "submission = pd.DataFrame(date_2019)\n",
        "submission['기온'] = 0\n",
        "submission.columns = [\"일시\",\"temper\"]\n",
        "submission = submission.iloc[:-1]"
      ],
      "id": "C7v8gax9Ybv3",
      "execution_count": null,
      "outputs": []
    },
    {
      "cell_type": "code",
      "metadata": {
        "colab": {
          "base_uri": "https://localhost:8080/",
          "height": 420
        },
        "id": "zTcz0xLYYbyT",
        "outputId": "41a1179d-58f6-42e9-c774-27cb53436534"
      },
      "source": [
        "submission"
      ],
      "id": "zTcz0xLYYbyT",
      "execution_count": null,
      "outputs": [
        {
          "output_type": "execute_result",
          "data": {
            "text/html": [
              "<div>\n",
              "<style scoped>\n",
              "    .dataframe tbody tr th:only-of-type {\n",
              "        vertical-align: middle;\n",
              "    }\n",
              "\n",
              "    .dataframe tbody tr th {\n",
              "        vertical-align: top;\n",
              "    }\n",
              "\n",
              "    .dataframe thead th {\n",
              "        text-align: right;\n",
              "    }\n",
              "</style>\n",
              "<table border=\"1\" class=\"dataframe\">\n",
              "  <thead>\n",
              "    <tr style=\"text-align: right;\">\n",
              "      <th></th>\n",
              "      <th>일시</th>\n",
              "      <th>temper</th>\n",
              "    </tr>\n",
              "  </thead>\n",
              "  <tbody>\n",
              "    <tr>\n",
              "      <th>0</th>\n",
              "      <td>2019-01-01 00:00:00</td>\n",
              "      <td>0</td>\n",
              "    </tr>\n",
              "    <tr>\n",
              "      <th>1</th>\n",
              "      <td>2019-01-01 01:00:00</td>\n",
              "      <td>0</td>\n",
              "    </tr>\n",
              "    <tr>\n",
              "      <th>2</th>\n",
              "      <td>2019-01-01 02:00:00</td>\n",
              "      <td>0</td>\n",
              "    </tr>\n",
              "    <tr>\n",
              "      <th>3</th>\n",
              "      <td>2019-01-01 03:00:00</td>\n",
              "      <td>0</td>\n",
              "    </tr>\n",
              "    <tr>\n",
              "      <th>4</th>\n",
              "      <td>2019-01-01 04:00:00</td>\n",
              "      <td>0</td>\n",
              "    </tr>\n",
              "    <tr>\n",
              "      <th>...</th>\n",
              "      <td>...</td>\n",
              "      <td>...</td>\n",
              "    </tr>\n",
              "    <tr>\n",
              "      <th>2155</th>\n",
              "      <td>2019-03-31 19:00:00</td>\n",
              "      <td>0</td>\n",
              "    </tr>\n",
              "    <tr>\n",
              "      <th>2156</th>\n",
              "      <td>2019-03-31 20:00:00</td>\n",
              "      <td>0</td>\n",
              "    </tr>\n",
              "    <tr>\n",
              "      <th>2157</th>\n",
              "      <td>2019-03-31 21:00:00</td>\n",
              "      <td>0</td>\n",
              "    </tr>\n",
              "    <tr>\n",
              "      <th>2158</th>\n",
              "      <td>2019-03-31 22:00:00</td>\n",
              "      <td>0</td>\n",
              "    </tr>\n",
              "    <tr>\n",
              "      <th>2159</th>\n",
              "      <td>2019-03-31 23:00:00</td>\n",
              "      <td>0</td>\n",
              "    </tr>\n",
              "  </tbody>\n",
              "</table>\n",
              "<p>2160 rows × 2 columns</p>\n",
              "</div>"
            ],
            "text/plain": [
              "                      일시  temper\n",
              "0    2019-01-01 00:00:00       0\n",
              "1    2019-01-01 01:00:00       0\n",
              "2    2019-01-01 02:00:00       0\n",
              "3    2019-01-01 03:00:00       0\n",
              "4    2019-01-01 04:00:00       0\n",
              "...                  ...     ...\n",
              "2155 2019-03-31 19:00:00       0\n",
              "2156 2019-03-31 20:00:00       0\n",
              "2157 2019-03-31 21:00:00       0\n",
              "2158 2019-03-31 22:00:00       0\n",
              "2159 2019-03-31 23:00:00       0\n",
              "\n",
              "[2160 rows x 2 columns]"
            ]
          },
          "metadata": {},
          "execution_count": 53
        }
      ]
    },
    {
      "cell_type": "code",
      "metadata": {
        "id": "txBBvx3Pa6MZ"
      },
      "source": [
        "submission['temper'] = model.predict(X_test)"
      ],
      "id": "txBBvx3Pa6MZ",
      "execution_count": null,
      "outputs": []
    },
    {
      "cell_type": "code",
      "metadata": {
        "id": "C7CCY4Y98Snz",
        "colab": {
          "base_uri": "https://localhost:8080/",
          "height": 420
        },
        "outputId": "855debb8-4eeb-4240-d68a-79d6ce7bfcb1"
      },
      "source": [
        "submission"
      ],
      "id": "C7CCY4Y98Snz",
      "execution_count": null,
      "outputs": [
        {
          "output_type": "execute_result",
          "data": {
            "text/html": [
              "<div>\n",
              "<style scoped>\n",
              "    .dataframe tbody tr th:only-of-type {\n",
              "        vertical-align: middle;\n",
              "    }\n",
              "\n",
              "    .dataframe tbody tr th {\n",
              "        vertical-align: top;\n",
              "    }\n",
              "\n",
              "    .dataframe thead th {\n",
              "        text-align: right;\n",
              "    }\n",
              "</style>\n",
              "<table border=\"1\" class=\"dataframe\">\n",
              "  <thead>\n",
              "    <tr style=\"text-align: right;\">\n",
              "      <th></th>\n",
              "      <th>일시</th>\n",
              "      <th>temper</th>\n",
              "    </tr>\n",
              "  </thead>\n",
              "  <tbody>\n",
              "    <tr>\n",
              "      <th>0</th>\n",
              "      <td>2019-01-01 00:00:00</td>\n",
              "      <td>-3.777217</td>\n",
              "    </tr>\n",
              "    <tr>\n",
              "      <th>1</th>\n",
              "      <td>2019-01-01 01:00:00</td>\n",
              "      <td>-4.376366</td>\n",
              "    </tr>\n",
              "    <tr>\n",
              "      <th>2</th>\n",
              "      <td>2019-01-01 02:00:00</td>\n",
              "      <td>-4.601617</td>\n",
              "    </tr>\n",
              "    <tr>\n",
              "      <th>3</th>\n",
              "      <td>2019-01-01 03:00:00</td>\n",
              "      <td>-4.914157</td>\n",
              "    </tr>\n",
              "    <tr>\n",
              "      <th>4</th>\n",
              "      <td>2019-01-01 04:00:00</td>\n",
              "      <td>-5.321001</td>\n",
              "    </tr>\n",
              "    <tr>\n",
              "      <th>...</th>\n",
              "      <td>...</td>\n",
              "      <td>...</td>\n",
              "    </tr>\n",
              "    <tr>\n",
              "      <th>2155</th>\n",
              "      <td>2019-03-31 19:00:00</td>\n",
              "      <td>14.390414</td>\n",
              "    </tr>\n",
              "    <tr>\n",
              "      <th>2156</th>\n",
              "      <td>2019-03-31 20:00:00</td>\n",
              "      <td>13.318585</td>\n",
              "    </tr>\n",
              "    <tr>\n",
              "      <th>2157</th>\n",
              "      <td>2019-03-31 21:00:00</td>\n",
              "      <td>12.305338</td>\n",
              "    </tr>\n",
              "    <tr>\n",
              "      <th>2158</th>\n",
              "      <td>2019-03-31 22:00:00</td>\n",
              "      <td>11.657608</td>\n",
              "    </tr>\n",
              "    <tr>\n",
              "      <th>2159</th>\n",
              "      <td>2019-03-31 23:00:00</td>\n",
              "      <td>11.056290</td>\n",
              "    </tr>\n",
              "  </tbody>\n",
              "</table>\n",
              "<p>2160 rows × 2 columns</p>\n",
              "</div>"
            ],
            "text/plain": [
              "                      일시     temper\n",
              "0    2019-01-01 00:00:00  -3.777217\n",
              "1    2019-01-01 01:00:00  -4.376366\n",
              "2    2019-01-01 02:00:00  -4.601617\n",
              "3    2019-01-01 03:00:00  -4.914157\n",
              "4    2019-01-01 04:00:00  -5.321001\n",
              "...                  ...        ...\n",
              "2155 2019-03-31 19:00:00  14.390414\n",
              "2156 2019-03-31 20:00:00  13.318585\n",
              "2157 2019-03-31 21:00:00  12.305338\n",
              "2158 2019-03-31 22:00:00  11.657608\n",
              "2159 2019-03-31 23:00:00  11.056290\n",
              "\n",
              "[2160 rows x 2 columns]"
            ]
          },
          "metadata": {},
          "execution_count": 55
        }
      ]
    },
    {
      "cell_type": "markdown",
      "metadata": {
        "id": "oeYBjw0SbMyX"
      },
      "source": [
        "### k-fold 교차검증"
      ],
      "id": "oeYBjw0SbMyX"
    },
    {
      "cell_type": "code",
      "metadata": {
        "id": "3UCns5CvbJ-9"
      },
      "source": [
        "from sklearn.model_selection import KFold"
      ],
      "id": "3UCns5CvbJ-9",
      "execution_count": null,
      "outputs": []
    },
    {
      "cell_type": "code",
      "metadata": {
        "id": "076Mr4Qnbd6h"
      },
      "source": [
        "k_fold = KFold(n_splits = 5,shuffle = True, random_state = 777)"
      ],
      "id": "076Mr4Qnbd6h",
      "execution_count": null,
      "outputs": []
    },
    {
      "cell_type": "code",
      "metadata": {
        "colab": {
          "base_uri": "https://localhost:8080/"
        },
        "id": "IfIszv2sbkoe",
        "outputId": "73fcc98d-ae44-4170-da2d-5185beafbb2a"
      },
      "source": [
        "for train_idx, val_idx in k_fold.split(X_train): \n",
        "  print(len(train_idx), len(val_idx)) \n",
        "  break"
      ],
      "id": "IfIszv2sbkoe",
      "execution_count": null,
      "outputs": [
        {
          "output_type": "stream",
          "name": "stdout",
          "text": [
            "42067 10517\n"
          ]
        }
      ]
    },
    {
      "cell_type": "code",
      "metadata": {
        "colab": {
          "base_uri": "https://localhost:8080/"
        },
        "id": "H_uHz0-VbqR9",
        "outputId": "cf1e5a16-1c00-4142-8467-6e3c8cddff0a"
      },
      "source": [
        "models = [] # 모델을 담을 바구니라 생각하자. \n",
        "\n",
        "for train_idx, val_idx in k_fold.split(X_train): \n",
        "  x_t = X_train.iloc[train_idx] \n",
        "  y_t = y_train.iloc[train_idx] \n",
        "  x_val = X_train.iloc[val_idx] \n",
        "  y_val = y_train.iloc[val_idx] \n",
        "  \n",
        "  models.append(model.fit(x_t, y_t, eval_set=(x_val, y_val), early_stopping_rounds=100, verbose = 100))"
      ],
      "id": "H_uHz0-VbqR9",
      "execution_count": null,
      "outputs": [
        {
          "output_type": "stream",
          "name": "stdout",
          "text": [
            "Training until validation scores don't improve for 100 rounds.\n",
            "[100]\tvalid_0's l2: 6.51677\n",
            "[200]\tvalid_0's l2: 4.9619\n",
            "[300]\tvalid_0's l2: 3.95348\n",
            "[400]\tvalid_0's l2: 3.2974\n",
            "[500]\tvalid_0's l2: 2.86579\n",
            "[600]\tvalid_0's l2: 2.55158\n",
            "[700]\tvalid_0's l2: 2.35622\n",
            "[800]\tvalid_0's l2: 2.15162\n",
            "[900]\tvalid_0's l2: 1.97854\n",
            "[1000]\tvalid_0's l2: 1.82849\n",
            "Did not meet early stopping. Best iteration is:\n",
            "[1000]\tvalid_0's l2: 1.82849\n",
            "Training until validation scores don't improve for 100 rounds.\n",
            "[100]\tvalid_0's l2: 6.76487\n",
            "[200]\tvalid_0's l2: 5.03727\n",
            "[300]\tvalid_0's l2: 4.09567\n",
            "[400]\tvalid_0's l2: 3.50531\n",
            "[500]\tvalid_0's l2: 3.01821\n",
            "[600]\tvalid_0's l2: 2.65917\n",
            "[700]\tvalid_0's l2: 2.35855\n",
            "[800]\tvalid_0's l2: 2.13861\n",
            "[900]\tvalid_0's l2: 1.99747\n",
            "[1000]\tvalid_0's l2: 1.85212\n",
            "Did not meet early stopping. Best iteration is:\n",
            "[1000]\tvalid_0's l2: 1.85212\n",
            "Training until validation scores don't improve for 100 rounds.\n",
            "[100]\tvalid_0's l2: 6.67489\n",
            "[200]\tvalid_0's l2: 5.04209\n",
            "[300]\tvalid_0's l2: 4.14209\n",
            "[400]\tvalid_0's l2: 3.43714\n",
            "[500]\tvalid_0's l2: 2.89665\n",
            "[600]\tvalid_0's l2: 2.60048\n",
            "[700]\tvalid_0's l2: 2.35292\n",
            "[800]\tvalid_0's l2: 2.16783\n",
            "[900]\tvalid_0's l2: 2.00517\n",
            "[1000]\tvalid_0's l2: 1.861\n",
            "Did not meet early stopping. Best iteration is:\n",
            "[1000]\tvalid_0's l2: 1.861\n",
            "Training until validation scores don't improve for 100 rounds.\n",
            "[100]\tvalid_0's l2: 6.6351\n",
            "[200]\tvalid_0's l2: 4.87324\n",
            "[300]\tvalid_0's l2: 4.04052\n",
            "[400]\tvalid_0's l2: 3.43002\n",
            "[500]\tvalid_0's l2: 2.97841\n",
            "[600]\tvalid_0's l2: 2.62983\n",
            "[700]\tvalid_0's l2: 2.35897\n",
            "[800]\tvalid_0's l2: 2.16064\n",
            "[900]\tvalid_0's l2: 2.00931\n",
            "[1000]\tvalid_0's l2: 1.85676\n",
            "Did not meet early stopping. Best iteration is:\n",
            "[1000]\tvalid_0's l2: 1.85676\n",
            "Training until validation scores don't improve for 100 rounds.\n",
            "[100]\tvalid_0's l2: 6.67175\n",
            "[200]\tvalid_0's l2: 4.96675\n",
            "[300]\tvalid_0's l2: 4.01132\n",
            "[400]\tvalid_0's l2: 3.3225\n",
            "[500]\tvalid_0's l2: 2.87202\n",
            "[600]\tvalid_0's l2: 2.54841\n",
            "[700]\tvalid_0's l2: 2.29185\n",
            "[800]\tvalid_0's l2: 2.06154\n",
            "[900]\tvalid_0's l2: 1.89824\n",
            "[1000]\tvalid_0's l2: 1.77799\n",
            "Did not meet early stopping. Best iteration is:\n",
            "[1000]\tvalid_0's l2: 1.77799\n"
          ]
        }
      ]
    },
    {
      "cell_type": "code",
      "metadata": {
        "colab": {
          "base_uri": "https://localhost:8080/"
        },
        "id": "dKG8tjKZcDzS",
        "outputId": "41b3c6ba-bac8-49ef-c59b-c54ed9d75dc2"
      },
      "source": [
        "preds = [] \n",
        "for model in models: \n",
        "  preds.append(model.predict(X_test)) \n",
        "\n",
        "len(preds)"
      ],
      "id": "dKG8tjKZcDzS",
      "execution_count": null,
      "outputs": [
        {
          "output_type": "execute_result",
          "data": {
            "text/plain": [
              "5"
            ]
          },
          "metadata": {},
          "execution_count": 61
        }
      ]
    },
    {
      "cell_type": "code",
      "metadata": {
        "id": "5xYs_t8vcLf5"
      },
      "source": [
        "kfoldLightGBM = submission.copy()"
      ],
      "id": "5xYs_t8vcLf5",
      "execution_count": null,
      "outputs": []
    },
    {
      "cell_type": "code",
      "metadata": {
        "id": "ZNmFJSiqcRh-"
      },
      "source": [
        "kfoldLightGBM['temper'] = np.mean(preds, axis = 0) # mean 평균값함수,axis 축"
      ],
      "id": "ZNmFJSiqcRh-",
      "execution_count": null,
      "outputs": []
    },
    {
      "cell_type": "code",
      "metadata": {
        "colab": {
          "base_uri": "https://localhost:8080/",
          "height": 420
        },
        "id": "FGGqlottcUEr",
        "outputId": "210e1012-2409-48e8-c222-011e538d6276"
      },
      "source": [
        "kfoldLightGBM"
      ],
      "id": "FGGqlottcUEr",
      "execution_count": null,
      "outputs": [
        {
          "output_type": "execute_result",
          "data": {
            "text/html": [
              "<div>\n",
              "<style scoped>\n",
              "    .dataframe tbody tr th:only-of-type {\n",
              "        vertical-align: middle;\n",
              "    }\n",
              "\n",
              "    .dataframe tbody tr th {\n",
              "        vertical-align: top;\n",
              "    }\n",
              "\n",
              "    .dataframe thead th {\n",
              "        text-align: right;\n",
              "    }\n",
              "</style>\n",
              "<table border=\"1\" class=\"dataframe\">\n",
              "  <thead>\n",
              "    <tr style=\"text-align: right;\">\n",
              "      <th></th>\n",
              "      <th>일시</th>\n",
              "      <th>temper</th>\n",
              "    </tr>\n",
              "  </thead>\n",
              "  <tbody>\n",
              "    <tr>\n",
              "      <th>0</th>\n",
              "      <td>2019-01-01 00:00:00</td>\n",
              "      <td>-2.865005</td>\n",
              "    </tr>\n",
              "    <tr>\n",
              "      <th>1</th>\n",
              "      <td>2019-01-01 01:00:00</td>\n",
              "      <td>-4.238406</td>\n",
              "    </tr>\n",
              "    <tr>\n",
              "      <th>2</th>\n",
              "      <td>2019-01-01 02:00:00</td>\n",
              "      <td>-4.596427</td>\n",
              "    </tr>\n",
              "    <tr>\n",
              "      <th>3</th>\n",
              "      <td>2019-01-01 03:00:00</td>\n",
              "      <td>-4.838647</td>\n",
              "    </tr>\n",
              "    <tr>\n",
              "      <th>4</th>\n",
              "      <td>2019-01-01 04:00:00</td>\n",
              "      <td>-5.156904</td>\n",
              "    </tr>\n",
              "    <tr>\n",
              "      <th>...</th>\n",
              "      <td>...</td>\n",
              "      <td>...</td>\n",
              "    </tr>\n",
              "    <tr>\n",
              "      <th>2155</th>\n",
              "      <td>2019-03-31 19:00:00</td>\n",
              "      <td>15.525675</td>\n",
              "    </tr>\n",
              "    <tr>\n",
              "      <th>2156</th>\n",
              "      <td>2019-03-31 20:00:00</td>\n",
              "      <td>14.108487</td>\n",
              "    </tr>\n",
              "    <tr>\n",
              "      <th>2157</th>\n",
              "      <td>2019-03-31 21:00:00</td>\n",
              "      <td>13.315534</td>\n",
              "    </tr>\n",
              "    <tr>\n",
              "      <th>2158</th>\n",
              "      <td>2019-03-31 22:00:00</td>\n",
              "      <td>12.704152</td>\n",
              "    </tr>\n",
              "    <tr>\n",
              "      <th>2159</th>\n",
              "      <td>2019-03-31 23:00:00</td>\n",
              "      <td>11.945252</td>\n",
              "    </tr>\n",
              "  </tbody>\n",
              "</table>\n",
              "<p>2160 rows × 2 columns</p>\n",
              "</div>"
            ],
            "text/plain": [
              "                      일시     temper\n",
              "0    2019-01-01 00:00:00  -2.865005\n",
              "1    2019-01-01 01:00:00  -4.238406\n",
              "2    2019-01-01 02:00:00  -4.596427\n",
              "3    2019-01-01 03:00:00  -4.838647\n",
              "4    2019-01-01 04:00:00  -5.156904\n",
              "...                  ...        ...\n",
              "2155 2019-03-31 19:00:00  15.525675\n",
              "2156 2019-03-31 20:00:00  14.108487\n",
              "2157 2019-03-31 21:00:00  13.315534\n",
              "2158 2019-03-31 22:00:00  12.704152\n",
              "2159 2019-03-31 23:00:00  11.945252\n",
              "\n",
              "[2160 rows x 2 columns]"
            ]
          },
          "metadata": {},
          "execution_count": 64
        }
      ]
    },
    {
      "cell_type": "code",
      "metadata": {
        "id": "Ru1cwF0VgjLV"
      },
      "source": [
        "submission.to_csv(\"./2019년기온_1110.csv\")"
      ],
      "id": "Ru1cwF0VgjLV",
      "execution_count": null,
      "outputs": []
    },
    {
      "cell_type": "code",
      "metadata": {
        "id": "t-Cln8-Fgn1J"
      },
      "source": [
        ""
      ],
      "id": "t-Cln8-Fgn1J",
      "execution_count": null,
      "outputs": []
    }
  ]
}